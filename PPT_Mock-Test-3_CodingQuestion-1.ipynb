{
 "cells": [
  {
   "cell_type": "code",
   "execution_count": 31,
   "id": "8edb89df",
   "metadata": {},
   "outputs": [
    {
     "name": "stdout",
     "output_type": "stream",
     "text": [
      "[1, 2, 3]\n",
      "[1, 2]\n"
     ]
    },
    {
     "data": {
      "text/plain": [
       "'In the above code, we have defined the Stack class with the push, pop, isEmpty, and printStack methods.\\nWe have then created a new instance of the Stack class called stack.\\nWe have added three items to the stack using the push method.\\nWe have printed the contents of the stack using the printStack method.\\nWe have then removed the top item from the stack using the pop method and printed the contents of the stack again.'"
      ]
     },
     "execution_count": 31,
     "metadata": {},
     "output_type": "execute_result"
    }
   ],
   "source": [
    "# Question 1: Implement a stack using a list in Python. Include the necessary methods such as push, pop, and isEmpty.\n",
    "\n",
    "# SOLUTION: \n",
    "# Here is the solution code with a example usage:\n",
    "# CODE:  The time complexity of the push, pop, and isEmpty methods in the Stack class is O(1) because they all perform a constant amount of work regardless of the size of the stack. The space complexity of the Stack class is O(n), where n is the number of items in the stack, because we are using a list to store the items.\n",
    "\n",
    "class Stack:\n",
    "    def __init__(self):\n",
    "        self.stack = []\n",
    "        \n",
    "    def push(self, item):\n",
    "        self.stack.append(item)\n",
    "        \n",
    "    def pop(self):\n",
    "        return self.stack.pop()\n",
    "    \n",
    "    def isEmpty(self):\n",
    "        return len(self.stack) == 0\n",
    "    \n",
    "    def printStack(self):\n",
    "        print(self.stack)\n",
    "\n",
    "# Example usage:\n",
    "stack = Stack()\n",
    "\n",
    "stack.push(1)\n",
    "stack.push(2)\n",
    "stack.push(3)\n",
    "\n",
    "stack.printStack()\n",
    "\n",
    "stack.pop()\n",
    "\n",
    "stack.printStack()\n",
    "\n",
    "'''In the above code, we have defined the Stack class with the push, pop, isEmpty, and printStack methods.\n",
    "We have then created a new instance of the Stack class called stack.\n",
    "We have added three items to the stack using the push method.\n",
    "We have printed the contents of the stack using the printStack method.\n",
    "We have then removed the top item from the stack using the pop method and printed the contents of the stack again.'''\n"
   ]
  }
 ],
 "metadata": {
  "kernelspec": {
   "display_name": "Python 3 (ipykernel)",
   "language": "python",
   "name": "python3"
  },
  "language_info": {
   "codemirror_mode": {
    "name": "ipython",
    "version": 3
   },
   "file_extension": ".py",
   "mimetype": "text/x-python",
   "name": "python",
   "nbconvert_exporter": "python",
   "pygments_lexer": "ipython3",
   "version": "3.9.13"
  }
 },
 "nbformat": 4,
 "nbformat_minor": 5
}
