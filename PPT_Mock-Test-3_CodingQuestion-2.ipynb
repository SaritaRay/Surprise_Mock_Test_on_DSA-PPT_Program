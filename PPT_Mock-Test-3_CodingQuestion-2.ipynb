{
 "cells": [
  {
   "cell_type": "code",
   "execution_count": 18,
   "id": "741af87f",
   "metadata": {},
   "outputs": [
    {
     "name": "stdout",
     "output_type": "stream",
     "text": [
      "[1, 2, 3]\n",
      "[2, 3]\n"
     ]
    },
    {
     "data": {
      "text/plain": [
       "'In the above code, we have defined the Queue class with the enqueue, dequeue, isEmpty, and printQueue methods. We have then created a new instance of the Queue class called queue. We have added three items to the queue using the enqueue method. We have printed the contents of the queue using the printQueue method. We have then removed the front item from the queue using the dequeue method and printed the contents of the queue again.'"
      ]
     },
     "execution_count": 18,
     "metadata": {},
     "output_type": "execute_result"
    }
   ],
   "source": [
    "# Question: Implement a queue using a list in Python. Include the necessary methods such as enqueue, dequeue, and isEmpty.\n",
    "\n",
    "# SOLUTION: \n",
    "# Here is the solution code with a example usage:\n",
    "# CODE: The time complexity of the enqueue, dequeue, and isEmpty methods in the Queue class is O(1) because they all perform a constant amount of work regardless of the size of the queue. The space complexity of the Queue class is O(n), where n is the number of items in the queue, because we are using a list to store the items.\n",
    "\n",
    "class Queue:\n",
    "    def __init__(self):\n",
    "        self.queue = []\n",
    "        \n",
    "    def enqueue(self, item):\n",
    "        self.queue.append(item)\n",
    "        \n",
    "    def dequeue(self):\n",
    "        if not self.isEmpty():\n",
    "            return self.queue.pop(0)\n",
    "        else:\n",
    "            return None\n",
    "        \n",
    "    def isEmpty(self):\n",
    "        return len(self.queue) == 0\n",
    "    \n",
    "    def printQueue(self):\n",
    "        print(self.queue)\n",
    "\n",
    "# example usage:\n",
    "queue = Queue()\n",
    "\n",
    "queue.enqueue(1)\n",
    "queue.enqueue(2)\n",
    "queue.enqueue(3)\n",
    "\n",
    "queue.printQueue()\n",
    "\n",
    "queue.dequeue()\n",
    "\n",
    "queue.printQueue()\n",
    "\n",
    "'''In the above code, we have defined the Queue class with the enqueue, dequeue, isEmpty, and printQueue methods. We have then created a new instance of the Queue class called queue. We have added three items to the queue using the enqueue method. We have printed the contents of the queue using the printQueue method. We have then removed the front item from the queue using the dequeue method and printed the contents of the queue again.'''\n"
   ]
  }
 ],
 "metadata": {
  "kernelspec": {
   "display_name": "Python 3 (ipykernel)",
   "language": "python",
   "name": "python3"
  },
  "language_info": {
   "codemirror_mode": {
    "name": "ipython",
    "version": 3
   },
   "file_extension": ".py",
   "mimetype": "text/x-python",
   "name": "python",
   "nbconvert_exporter": "python",
   "pygments_lexer": "ipython3",
   "version": "3.9.13"
  }
 },
 "nbformat": 4,
 "nbformat_minor": 5
}
