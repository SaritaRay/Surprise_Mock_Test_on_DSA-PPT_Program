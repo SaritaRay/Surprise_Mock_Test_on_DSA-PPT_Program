{
  "metadata": {
    "language_info": {
      "codemirror_mode": {
        "name": "python",
        "version": 3
      },
      "file_extension": ".py",
      "mimetype": "text/x-python",
      "name": "python",
      "nbconvert_exporter": "python",
      "pygments_lexer": "ipython3",
      "version": "3.8"
    },
    "kernelspec": {
      "name": "python",
      "display_name": "Python (Pyodide)",
      "language": "python"
    }
  },
  "nbformat_minor": 4,
  "nbformat": 4,
  "cells": [
    {
      "cell_type": "code",
      "source": "def moveZeroes(nums):\n    count = 0\n    for i in range(len(nums)):\n        if nums[i] != 0:\n            nums[count], nums[i] = nums[i], nums[count]\n            count += 1\n    for i in range(count, len(nums)):\n        nums[i] = 0\n\nnums = [0,1,0,3,12]\nmoveZeroes(nums)\nprint(nums)",
      "metadata": {
        "trusted": true
      },
      "execution_count": 1,
      "outputs": [
        {
          "name": "stdout",
          "text": "[1, 3, 12, 0, 0]\n",
          "output_type": "stream"
        }
      ]
    }
  ]
}