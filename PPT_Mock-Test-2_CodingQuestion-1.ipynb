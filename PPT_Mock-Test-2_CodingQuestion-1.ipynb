{
 "cells": [
  {
   "cell_type": "code",
   "execution_count": 1,
   "id": "7c3c4bd0",
   "metadata": {},
   "outputs": [
    {
     "name": "stdout",
     "output_type": "stream",
     "text": [
      "From EXAMPLE_1:   if x=4, then the OUTPUT will be: 2\n",
      " \n",
      "From EXAMPLE_2:   if x=8, then the OUTPUT will be: 2\n"
     ]
    }
   ],
   "source": [
    "# Question: \n",
    "'''\n",
    "Given a non-negative integer x, return the square root of x rounded down to the nearest integer. The returned integer should be non-negative as well. You must not use any built-in exponent function or operator. \n",
    "\n",
    " Example 1:\n",
    "Input: x = 4 Output: 2 Explanation: The square root of 4 is 2, so we return 2.\n",
    "Example 2:\n",
    "\n",
    "Input: x = 8 Output: 2 Explanation: The square root of 8 is 2.82842..., and since we round it down to the nearest integer, 2 is returned.\n",
    "Constraints:\n",
    "\n",
    "0 <= x <= 2^31 - 1\n",
    "\n",
    "'''\n",
    "\n",
    "\n",
    "\n",
    "# Solution:\n",
    "\n",
    "#The time complexity of this algorithm is O(log n), where n is the input number. This is because we use binary search to find the square root of the number. The space complexity of this algorithm is O(1), because we only use a few variables to store the state of the algorithm.\n",
    "\n",
    "# Here is the solution CODE:\n",
    "\n",
    "\n",
    "class Solution:\n",
    "    def mySqrt(self, x: int) -> int:\n",
    "        if x == 0:\n",
    "            return 0\n",
    "\n",
    "        left = 1\n",
    "        right = x\n",
    "\n",
    "        while left <= right:\n",
    "            mid = (left + right) // 2\n",
    "\n",
    "            if mid * mid == x:\n",
    "                return mid\n",
    "            elif mid * mid < x:\n",
    "                left = mid + 1\n",
    "                ans = mid\n",
    "            else:\n",
    "                right = mid - 1\n",
    "\n",
    "        return ans\n",
    "\n",
    "# Example usage\n",
    "solution = Solution()\n",
    "print(\"From EXAMPLE_1:   if x=4, then the OUTPUT will be:\", solution.mySqrt(4))\n",
    "\n",
    "print(\" \")\n",
    "\n",
    "print(\"From EXAMPLE_2:   if x=8, then the OUTPUT will be:\", solution.mySqrt(8))\n"
   ]
  }
 ],
 "metadata": {
  "kernelspec": {
   "display_name": "Python 3 (ipykernel)",
   "language": "python",
   "name": "python3"
  },
  "language_info": {
   "codemirror_mode": {
    "name": "ipython",
    "version": 3
   },
   "file_extension": ".py",
   "mimetype": "text/x-python",
   "name": "python",
   "nbconvert_exporter": "python",
   "pygments_lexer": "ipython3",
   "version": "3.9.13"
  }
 },
 "nbformat": 4,
 "nbformat_minor": 5
}
