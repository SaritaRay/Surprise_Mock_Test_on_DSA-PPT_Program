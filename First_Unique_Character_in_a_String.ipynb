{
  "metadata": {
    "language_info": {
      "codemirror_mode": {
        "name": "python",
        "version": 3
      },
      "file_extension": ".py",
      "mimetype": "text/x-python",
      "name": "python",
      "nbconvert_exporter": "python",
      "pygments_lexer": "ipython3",
      "version": "3.8"
    },
    "kernelspec": {
      "name": "python",
      "display_name": "Python (Pyodide)",
      "language": "python"
    }
  },
  "nbformat_minor": 4,
  "nbformat": 4,
  "cells": [
    {
      "cell_type": "code",
      "source": "def firstUniqChar(s):\n    char_count = {}\n    for char in s:\n        if char in char_count:\n            char_count[char] += 1\n        else:\n            char_count[char] = 1\n\n    for i in range(len(s)):\n        if char_count[s[i]] == 1:\n            return i\n\n    return -1\n\ns = \"leetcode\"\nprint(firstUniqChar(s)) # Output: 0\n\ns = \"loveleetcode\"\nprint(firstUniqChar(s)) # Output: 2\n\ns = \"aabb\"\nprint(firstUniqChar(s)) # Output: -1",
      "metadata": {
        "trusted": true
      },
      "execution_count": 13,
      "outputs": [
        {
          "name": "stdout",
          "text": "0\n2\n-1\n",
          "output_type": "stream"
        }
      ]
    }
  ]
}